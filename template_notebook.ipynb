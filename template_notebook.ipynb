{
 "cells": [
  {
   "cell_type": "markdown",
   "metadata": {},
   "source": [
    "<div style=\"text-align: center;\">\n",
    "    <a data-flickr-embed=\"true\" href=\"https://www.flickr.com/photos/201193901@N05/53915199440/in/dateposted-public/\" title=\"Captura de tela 2024-08-10 183020\">\n",
    "        <img src=\"https://live.staticflickr.com/65535/53915199440_a5d3a46833_b.jpg\" width=\"1024\" height=\"649\" alt=\"Captura de tela 2024-08-10 183020\"/>\n",
    "    </a>\n",
    "    <script async src=\"//embedr.flickr.com/assets/client-code.js\" charset=\"utf-8\"></script>\n",
    "</div>\n",
    "\n",
    "\n",
    "<table align=\"center\">\n",
    "  <td align=\"center\"><a target=\"_blank\" href=\"https://app.pipefy.com/public/form/XCO9Y1h-\">\n",
    "        <img src=\"https://live.staticflickr.com/65535/53913824567_998f2861d5_b.jpg\" height=\"70px\" style=\"padding-bottom:5px;\" />\n",
    "      Inscrição Processo Seletivo</a></td>\n",
    "  <td align=\"center\"><a target=\"_blank\" href=\"https://colab.research.google.com/github/aamini/introtodeeplearning/blob/master/lab1/Part1_TensorFlow.ipynb\">\n",
    "        <img src=\"https://i.ibb.co/2P3SLwK/colab.png\" style=\"padding-bottom:5px;\" />Rode no Google Colab</a></td>\n",
    "</table>"
   ]
  },
  {
   "cell_type": "markdown",
   "metadata": {
    "vscode": {
     "languageId": "plaintext"
    }
   },
   "source": [
    "# Oficina de Python e Ciência de Dados\n",
    "\n",
    "<center>\n",
    "    <h1>\n",
    "        <font style=\"color: purple\">\n",
    "            Núcleo de Análise e Inteligência de Dados\n",
    "        </font>\n",
    "    </h1>\n",
    "</center>\n",
    "\n",
    "## Introdução\n",
    "\n",
    "Bem-vindo(a) à nossa oficina de Python e Ciência de Dados! Este notebook foi criado para guiá-lo(a) através de uma série de atividades que irão ajudá-lo(a) a se familiarizar com a manipulação de dados utilizando Python. Usaremos um dataset real de dados imobiliários de Nova York para explorar conceitos básicos e avançados.\n",
    "\n",
    "### Estrutura da Oficina\n",
    "1. **Seção 1:** Questões Diretas\n",
    "2. **Seção 2:** Exercícios de Criatividade e Autonomia\n",
    "3. **Seção 3 (Opcional):** Questões Avançadas para Aprofundamento\n",
    "\n",
    "Vamos começar!\n",
    "\n",
    "---"
   ]
  },
  {
   "cell_type": "markdown",
   "metadata": {},
   "source": [
    "\n",
    "## **Seção 1** - Questões Diretas\n",
    "\n",
    "### Questão 1: Carregando o Dataset\n",
    "Carregue o dataset e exiba as primeiras linhas.\n",
    "\n",
    "```python\n",
    "import pandas as pd\n",
    "\n",
    "# Carregando o dataset\n",
    "df = pd.read_csv('path_para_o_arquivo/dataset.csv')\n",
    "\n",
    "# Exibindo as primeiras linhas do dataset\n",
    "df.head()"
   ]
  },
  {
   "cell_type": "markdown",
   "metadata": {},
   "source": [
    "##### Tarefa: Verifique o número de linhas e colunas do dataset."
   ]
  },
  {
   "cell_type": "code",
   "execution_count": null,
   "metadata": {},
   "outputs": [],
   "source": [
    "# Sua resposta aqui\n",
    "df.shape"
   ]
  },
  {
   "cell_type": "markdown",
   "metadata": {},
   "source": [
    "### Questão 2: Análise Exploratória Simples\n",
    "##### Tarefa: Qual o preço médio dos imóveis?"
   ]
  },
  {
   "cell_type": "code",
   "execution_count": null,
   "metadata": {},
   "outputs": [],
   "source": [
    "# Sua resposta aqui\n",
    "df['price'].mean()"
   ]
  },
  {
   "cell_type": "markdown",
   "metadata": {},
   "source": [
    "##### Tarefa: Liste os diferentes tipos de quartos disponíveis."
   ]
  },
  {
   "cell_type": "code",
   "execution_count": null,
   "metadata": {},
   "outputs": [],
   "source": [
    "# Sua resposta aqui\n",
    "df['price'].mean()"
   ]
  },
  {
   "cell_type": "markdown",
   "metadata": {},
   "source": [
    "### Questão 3: Filtrando Dados\n",
    "##### Tarefa: Filtre os dados para mostrar apenas os imóveis com preço acima de $200 por noite e que estejam disponíveis por mais de 300 dias no ano."
   ]
  },
  {
   "cell_type": "code",
   "execution_count": null,
   "metadata": {},
   "outputs": [],
   "source": [
    "# Sua resposta aqui\n",
    "df_filtered = df[(df['price'] > 200) & (df['availability_365'] > 300)]\n",
    "df_filtered.head()"
   ]
  },
  {
   "cell_type": "markdown",
   "metadata": {},
   "source": [
    "### Questão 4: Contagem de Reviews\n",
    "##### Tarefa: Qual o imóvel com o maior número de reviews?\n"
   ]
  },
  {
   "cell_type": "code",
   "execution_count": null,
   "metadata": {},
   "outputs": [],
   "source": [
    "# Sua resposta aqui\n",
    "df.loc[df['number_of_reviews'].idxmax()]"
   ]
  },
  {
   "cell_type": "markdown",
   "metadata": {},
   "source": [
    "---"
   ]
  },
  {
   "cell_type": "markdown",
   "metadata": {},
   "source": [
    "## **Seção 2** - Exercícios de Criatividade e Autonomia\n",
    "\n",
    "### Questão 5: Exploração Geográfica\n",
    "##### Tarefa: Qual é o bairro com a maior quantidade de imóveis listados?"
   ]
  },
  {
   "cell_type": "code",
   "execution_count": null,
   "metadata": {},
   "outputs": [],
   "source": [
    "# Sua resposta aqui\n",
    "df['neighbourhood'].value_counts().idxmax()"
   ]
  },
  {
   "cell_type": "markdown",
   "metadata": {},
   "source": [
    "##### Tarefa: Crie um gráfico mostrando a distribuição de tipos de quartos em diferentes bairros."
   ]
  },
  {
   "cell_type": "code",
   "execution_count": null,
   "metadata": {},
   "outputs": [],
   "source": [
    "# Sua resposta aqui\n",
    "import matplotlib.pyplot as plt\n",
    "\n",
    "df.groupby(['neighbourhood', 'room_type']).size().unstack().plot(kind='bar', stacked=True, figsize=(10,7))\n",
    "plt.title('Distribuição de Tipos de Quartos por Bairro')\n",
    "plt.xlabel('Bairro')\n",
    "plt.ylabel('Número de Imóveis')\n",
    "plt.show()"
   ]
  },
  {
   "cell_type": "markdown",
   "metadata": {},
   "source": [
    "### Questão 6: Análise Temporal\n",
    "##### Tarefa: Como a quantidade de reviews por mês variou ao longo do tempo? Crie um gráfico de linha para mostrar essa variação."
   ]
  },
  {
   "cell_type": "code",
   "execution_count": null,
   "metadata": {},
   "outputs": [],
   "source": [
    "# Sua resposta aqui\n",
    "df['last_review'] = pd.to_datetime(df['last_review'])\n",
    "df.set_index('last_review', inplace=True)\n",
    "\n",
    "df['reviews_per_month'].resample('M').sum().plot(kind='line', figsize=(10,7))\n",
    "plt.title('Total de Reviews por Mês')\n",
    "plt.xlabel('Data')\n",
    "plt.ylabel('Reviews por Mês')\n",
    "plt.show()"
   ]
  }
 ],
 "metadata": {
  "kernelspec": {
   "display_name": ".venv",
   "language": "python",
   "name": "python3"
  },
  "language_info": {
   "name": "python",
   "version": "3.12.0"
  }
 },
 "nbformat": 4,
 "nbformat_minor": 2
}
