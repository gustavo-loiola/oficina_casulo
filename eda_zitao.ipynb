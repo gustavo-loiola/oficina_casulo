{
 "cells": [
  {
   "cell_type": "code",
   "execution_count": 1,
   "metadata": {},
   "outputs": [],
   "source": [
    "import pandas as pd\n",
    "import os"
   ]
  },
  {
   "cell_type": "code",
   "execution_count": 17,
   "metadata": {},
   "outputs": [
    {
     "name": "stdout",
     "output_type": "stream",
     "text": [
      "Arquivos disponíveis na pasta bases:\n",
      "Mapa_Dados.ipynb\n",
      "olist_customers_dataset.csv\n",
      "olist_geolocation_dataset.csv\n",
      "olist_orders_dataset.csv\n",
      "olist_order_items_dataset.csv\n",
      "olist_order_payments_dataset.csv\n",
      "olist_order_reviews_dataset.csv\n",
      "olist_products_dataset.csv\n",
      "olist_sellers_dataset.csv\n",
      "product_category_name_translation.csv\n"
     ]
    }
   ],
   "source": [
    "# Verifica arquivos na pasta bases e printa o nome dos arquivos\n",
    "print('Arquivos disponíveis na pasta bases:')\n",
    "for file in os.listdir(os.getcwd()):\n",
    "    print(file)"
   ]
  },
  {
   "cell_type": "code",
   "execution_count": 21,
   "metadata": {},
   "outputs": [],
   "source": [
    "df_customers = pd.read_csv('olist_customers_dataset.csv')\n",
    "df_geolocation = pd.read_csv('olist_geolocation_dataset.csv')\n",
    "df_orders = pd.read_csv('olist_orders_dataset.csv')\n",
    "df_order_items = pd.read_csv('olist_order_items_dataset.csv')\n",
    "df_payments = pd.read_csv('olist_order_payments_dataset.csv')\n",
    "df_reviews = pd.read_csv('olist_order_reviews_dataset.csv')\n",
    "df_products = pd.read_csv('olist_products_dataset.csv')\n",
    "df_sellers = pd.read_csv('olist_sellers_dataset.csv')\n",
    "df_traducao = pd.read_csv('product_category_name_translation.csv')"
   ]
  },
  {
   "cell_type": "code",
   "execution_count": null,
   "metadata": {},
   "outputs": [],
   "source": []
  }
 ],
 "metadata": {
  "kernelspec": {
   "display_name": "projetopjobramax",
   "language": "python",
   "name": "python3"
  },
  "language_info": {
   "codemirror_mode": {
    "name": "ipython",
    "version": 3
   },
   "file_extension": ".py",
   "mimetype": "text/x-python",
   "name": "python",
   "nbconvert_exporter": "python",
   "pygments_lexer": "ipython3",
   "version": "3.12.0"
  }
 },
 "nbformat": 4,
 "nbformat_minor": 2
}
